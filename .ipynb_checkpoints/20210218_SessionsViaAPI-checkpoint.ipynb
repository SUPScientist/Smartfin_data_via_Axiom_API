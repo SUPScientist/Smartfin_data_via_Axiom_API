{
 "cells": [
  {
   "cell_type": "markdown",
   "metadata": {},
   "source": [
    "# Access AXDS API and download Smartfin data"
   ]
  },
  {
   "cell_type": "code",
   "execution_count": 1,
   "metadata": {},
   "outputs": [],
   "source": [
    "import json\n",
    "import requests\n",
    "import urllib\n",
    "import os\n",
    "import pandas as pd"
   ]
  },
  {
   "cell_type": "markdown",
   "metadata": {},
   "source": [
    "### Data are on stage.platforms.axds.co"
   ]
  },
  {
   "cell_type": "code",
   "execution_count": 2,
   "metadata": {},
   "outputs": [],
   "source": [
    "PLATFORM_API = 'https://stage.platforms.axds.co/'\n",
    "params = { 'verbosity': 2 }"
   ]
  },
  {
   "cell_type": "markdown",
   "metadata": {},
   "source": [
    "### Get session identifiers from CSV and find matching sessions in Axiom database\n",
    "Use example session ID to develop process"
   ]
  },
  {
   "cell_type": "code",
   "execution_count": 14,
   "metadata": {},
   "outputs": [
    {
     "data": {
      "text/plain": [
       "'Found 1 platforms tagged with \"packrat_source_id:google_115648017259601508520_000666D32296_171023233402*\"'"
      ]
     },
     "metadata": {},
     "output_type": "display_data"
    }
   ],
   "source": [
    "device = 'google_115648017259601508520_000666D32296_171023233402'\n",
    "search_tag = f'packrat_source_id:{device}*'\n",
    "sessions = requests.get(f'{PLATFORM_API}/tags/search/{search_tag}', params=params).json()['tags']\n",
    "display(f'Found {len(sessions)} platforms tagged with \"{search_tag}\"')"
   ]
  },
  {
   "cell_type": "code",
   "execution_count": 15,
   "metadata": {},
   "outputs": [
    {
     "data": {
      "text/plain": [
       "'Found 3 CSV files for this session'"
      ]
     },
     "metadata": {},
     "output_type": "display_data"
    }
   ],
   "source": [
    "csv_files = []\n",
    "for k, c in sessions.items():\n",
    "    files = list(c.values())[0]['files']\n",
    "    for fname, fc in files.items():\n",
    "        if fname.endswith('csv'):\n",
    "            csv_files.append(\n",
    "                fc['url']\n",
    "            )\n",
    "display(f'Found {len(csv_files)} CSV files for this session')"
   ]
  },
  {
   "cell_type": "code",
   "execution_count": 16,
   "metadata": {},
   "outputs": [
    {
     "name": "stdout",
     "output_type": "stream",
     "text": [
      "['https://files.stage.platforms.axds.co/smartfin/legacy/google_115648017259601508520_000666D32296_171023233402/motion.csv', 'https://files.stage.platforms.axds.co/smartfin/legacy/google_115648017259601508520_000666D32296_171023233402/combined.csv', 'https://files.stage.platforms.axds.co/smartfin/legacy/google_115648017259601508520_000666D32296_171023233402/ocean.csv']\n"
     ]
    }
   ],
   "source": [
    "print(csv_files)"
   ]
  },
  {
   "cell_type": "code",
   "execution_count": 17,
   "metadata": {},
   "outputs": [],
   "source": [
    "for url in csv_files:\n",
    "    # url is of form https://files.stage.platforms.axds.co/smartfin/legacy/google_112421847946536791050_0006667E22B1_170621130002/motion.csv\n",
    "    url_split = url.split('/') \n",
    "    new_fname = url_split[-2]+'_'+url_split[-1] # session ID + ocean or motion CSV\n",
    "    \n",
    "    # make a new subdirectory for files from this session\n",
    "    new_dir = os.path.join('data', url_split[-2])\n",
    "    if not os.path.exists(new_dir): os.mkdir(new_dir)\n",
    "    \n",
    "    path = os.path.join('data', url_split[-2], new_fname)\n",
    "    urllib.request.urlretrieve(url, path)"
   ]
  },
  {
   "cell_type": "code",
   "execution_count": 18,
   "metadata": {},
   "outputs": [
    {
     "data": {
      "text/plain": [
       "['https:',\n",
       " '',\n",
       " 'files.stage.platforms.axds.co',\n",
       " 'smartfin',\n",
       " 'legacy',\n",
       " 'google_115648017259601508520_000666D32296_171023233402',\n",
       " 'ocean.csv']"
      ]
     },
     "execution_count": 18,
     "metadata": {},
     "output_type": "execute_result"
    }
   ],
   "source": [
    "url_split"
   ]
  },
  {
   "cell_type": "code",
   "execution_count": 19,
   "metadata": {},
   "outputs": [
    {
     "data": {
      "text/plain": [
       "'google_115648017259601508520_000666D32296_171023233402_ocean.csv'"
      ]
     },
     "execution_count": 19,
     "metadata": {},
     "output_type": "execute_result"
    }
   ],
   "source": [
    "new_fname"
   ]
  },
  {
   "cell_type": "code",
   "execution_count": 20,
   "metadata": {},
   "outputs": [
    {
     "data": {
      "text/plain": [
       "'data/google_115648017259601508520_000666D32296_171023233402/google_115648017259601508520_000666D32296_171023233402_ocean.csv'"
      ]
     },
     "execution_count": 20,
     "metadata": {},
     "output_type": "execute_result"
    }
   ],
   "source": [
    "path"
   ]
  },
  {
   "cell_type": "code",
   "execution_count": null,
   "metadata": {},
   "outputs": [],
   "source": []
  }
 ],
 "metadata": {
  "kernelspec": {
   "display_name": "Python 3",
   "language": "python",
   "name": "python3"
  },
  "language_info": {
   "codemirror_mode": {
    "name": "ipython",
    "version": 3
   },
   "file_extension": ".py",
   "mimetype": "text/x-python",
   "name": "python",
   "nbconvert_exporter": "python",
   "pygments_lexer": "ipython3",
   "version": "3.7.7"
  }
 },
 "nbformat": 4,
 "nbformat_minor": 4
}
