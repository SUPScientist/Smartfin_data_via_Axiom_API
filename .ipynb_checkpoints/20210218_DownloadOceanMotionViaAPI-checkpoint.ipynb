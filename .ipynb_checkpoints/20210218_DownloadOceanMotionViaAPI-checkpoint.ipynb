{
 "cells": [
  {
   "cell_type": "markdown",
   "metadata": {},
   "source": [
    "# Access AXDS API and download Smartfin data"
   ]
  },
  {
   "cell_type": "code",
   "execution_count": 1,
   "metadata": {},
   "outputs": [],
   "source": [
    "import json\n",
    "import requests\n",
    "import urllib\n",
    "import os\n",
    "import pandas as pd"
   ]
  },
  {
   "cell_type": "markdown",
   "metadata": {},
   "source": [
    "### Data are on stage.platforms.axds.co"
   ]
  },
  {
   "cell_type": "code",
   "execution_count": 2,
   "metadata": {},
   "outputs": [],
   "source": [
    "PLATFORM_API = 'https://stage.platforms.axds.co/'\n",
    "params = { 'verbosity': 2 }"
   ]
  },
  {
   "cell_type": "markdown",
   "metadata": {},
   "source": [
    "### Get session identifiers from CSV and find matching sessions in Axiom database\n",
    "Use example session ID to develop process"
   ]
  },
  {
   "cell_type": "code",
   "execution_count": 3,
   "metadata": {},
   "outputs": [
    {
     "data": {
      "text/plain": [
       "'Found 1 platforms tagged with \"packrat_source_id:google_112421847946536791050_0006667E22B1_170621130002*\"'"
      ]
     },
     "metadata": {},
     "output_type": "display_data"
    }
   ],
   "source": [
    "device = 'google_112421847946536791050_0006667E22B1_170621130002'\n",
    "search_tag = f'packrat_source_id:{device}*'\n",
    "sessions = requests.get(f'{PLATFORM_API}/tags/search/{search_tag}', params=params).json()['tags']\n",
    "display(f'Found {len(sessions)} platforms tagged with \"{search_tag}\"')"
   ]
  },
  {
   "cell_type": "code",
   "execution_count": 4,
   "metadata": {},
   "outputs": [
    {
     "data": {
      "text/plain": [
       "'Found 3 CSV files for this session'"
      ]
     },
     "metadata": {},
     "output_type": "display_data"
    }
   ],
   "source": [
    "csv_files = []\n",
    "for k, c in sessions.items():\n",
    "    files = list(c.values())[0]['files']\n",
    "    for fname, fc in files.items():\n",
    "        if fname.endswith('csv'):\n",
    "            csv_files.append(\n",
    "                fc['url']\n",
    "            )\n",
    "display(f'Found {len(csv_files)} CSV files for this session')"
   ]
  },
  {
   "cell_type": "code",
   "execution_count": 5,
   "metadata": {},
   "outputs": [
    {
     "name": "stdout",
     "output_type": "stream",
     "text": [
      "['https://files.stage.platforms.axds.co/smartfin/legacy/google_112421847946536791050_0006667E22B1_170621130002/motion.csv', 'https://files.stage.platforms.axds.co/smartfin/legacy/google_112421847946536791050_0006667E22B1_170621130002/combined.csv', 'https://files.stage.platforms.axds.co/smartfin/legacy/google_112421847946536791050_0006667E22B1_170621130002/ocean.csv']\n"
     ]
    }
   ],
   "source": [
    "print(csv_files)"
   ]
  },
  {
   "cell_type": "code",
   "execution_count": 8,
   "metadata": {},
   "outputs": [],
   "source": [
    "for url in csv_files:\n",
    "    # url is of form https://files.stage.platforms.axds.co/smartfin/legacy/google_112421847946536791050_0006667E22B1_170621130002/motion.csv\n",
    "    url_split = url.split('/') \n",
    "    new_fname = url_split[-2]+'_'+url_split[-1] # session ID + ocean or motion CSV\n",
    "    \n",
    "    # make a new subdirectory for files from this session\n",
    "    path = os.path.join('data', url_split[-2], new_fname)\n",
    "    urllib.request.urlretrieve(url, path)"
   ]
  },
  {
   "cell_type": "code",
   "execution_count": null,
   "metadata": {},
   "outputs": [],
   "source": []
  }
 ],
 "metadata": {
  "kernelspec": {
   "display_name": "Python 3",
   "language": "python",
   "name": "python3"
  },
  "language_info": {
   "codemirror_mode": {
    "name": "ipython",
    "version": 3
   },
   "file_extension": ".py",
   "mimetype": "text/x-python",
   "name": "python",
   "nbconvert_exporter": "python",
   "pygments_lexer": "ipython3",
   "version": "3.7.7"
  }
 },
 "nbformat": 4,
 "nbformat_minor": 4
}
