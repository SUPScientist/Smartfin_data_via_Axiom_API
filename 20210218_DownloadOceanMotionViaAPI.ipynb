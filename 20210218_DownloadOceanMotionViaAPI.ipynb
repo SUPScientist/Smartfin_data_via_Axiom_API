{
 "cells": [
  {
   "cell_type": "markdown",
   "metadata": {},
   "source": [
    "# Access AXDS API and download Smartfin data"
   ]
  },
  {
   "cell_type": "code",
   "execution_count": 2,
   "metadata": {},
   "outputs": [],
   "source": [
    "import json\n",
    "import requests\n",
    "import urllib\n",
    "import os\n",
    "import pandas as pd"
   ]
  },
  {
   "cell_type": "markdown",
   "metadata": {},
   "source": [
    "### Data are on stage.platforms.axds.co"
   ]
  },
  {
   "cell_type": "code",
   "execution_count": 3,
   "metadata": {},
   "outputs": [],
   "source": [
    "PLATFORM_API = 'https://stage.platforms.axds.co/'\n",
    "params = { 'verbosity': 2 }"
   ]
  },
  {
   "cell_type": "markdown",
   "metadata": {},
   "source": [
    "### Get session identifiers from CSV and find matching sessions in Axiom database\n",
    "Use example session ID to develop process"
   ]
  },
  {
   "cell_type": "code",
   "execution_count": 16,
   "metadata": {},
   "outputs": [
    {
     "data": {
      "text/html": [
       "<div>\n",
       "<style scoped>\n",
       "    .dataframe tbody tr th:only-of-type {\n",
       "        vertical-align: middle;\n",
       "    }\n",
       "\n",
       "    .dataframe tbody tr th {\n",
       "        vertical-align: top;\n",
       "    }\n",
       "\n",
       "    .dataframe thead th {\n",
       "        text-align: right;\n",
       "    }\n",
       "</style>\n",
       "<table border=\"1\" class=\"dataframe\">\n",
       "  <thead>\n",
       "    <tr style=\"text-align: right;\">\n",
       "      <th></th>\n",
       "      <th>0</th>\n",
       "      <th>1</th>\n",
       "    </tr>\n",
       "  </thead>\n",
       "  <tbody>\n",
       "    <tr>\n",
       "      <th>0</th>\n",
       "      <td>google_101440910315486450418_000666D321BE_1803...</td>\n",
       "      <td>NaN</td>\n",
       "    </tr>\n",
       "    <tr>\n",
       "      <th>1</th>\n",
       "      <td>google_101440910315486450418_000666D321BE_1803...</td>\n",
       "      <td>NaN</td>\n",
       "    </tr>\n",
       "    <tr>\n",
       "      <th>2</th>\n",
       "      <td>google_105992916073328834624_000666D321BB_1711...</td>\n",
       "      <td>NaN</td>\n",
       "    </tr>\n",
       "    <tr>\n",
       "      <th>3</th>\n",
       "      <td>google_113399247482189200727_000666D32296_1711...</td>\n",
       "      <td>NaN</td>\n",
       "    </tr>\n",
       "    <tr>\n",
       "      <th>4</th>\n",
       "      <td>google_113399247482189200727_000666D32296_1711...</td>\n",
       "      <td>NaN</td>\n",
       "    </tr>\n",
       "    <tr>\n",
       "      <th>...</th>\n",
       "      <td>...</td>\n",
       "      <td>...</td>\n",
       "    </tr>\n",
       "    <tr>\n",
       "      <th>136</th>\n",
       "      <td>google_102847823526503707395_000666D6B7FD_1802...</td>\n",
       "      <td>NaN</td>\n",
       "    </tr>\n",
       "    <tr>\n",
       "      <th>137</th>\n",
       "      <td>google_102847823526503707395_000666DD9894_1910...</td>\n",
       "      <td>NaN</td>\n",
       "    </tr>\n",
       "    <tr>\n",
       "      <th>138</th>\n",
       "      <td>google_102847823526503707395_000666DD9894_1910...</td>\n",
       "      <td>NaN</td>\n",
       "    </tr>\n",
       "    <tr>\n",
       "      <th>139</th>\n",
       "      <td>google_114729917292219509612_000666DD7DE4_1809...</td>\n",
       "      <td>NaN</td>\n",
       "    </tr>\n",
       "    <tr>\n",
       "      <th>140</th>\n",
       "      <td>google_114729917292219509612_000666DD7DE4_1809...</td>\n",
       "      <td>NaN</td>\n",
       "    </tr>\n",
       "  </tbody>\n",
       "</table>\n",
       "<p>141 rows × 2 columns</p>\n",
       "</div>"
      ],
      "text/plain": [
       "                                                     0   1\n",
       "0    google_101440910315486450418_000666D321BE_1803... NaN\n",
       "1    google_101440910315486450418_000666D321BE_1803... NaN\n",
       "2    google_105992916073328834624_000666D321BB_1711... NaN\n",
       "3    google_113399247482189200727_000666D32296_1711... NaN\n",
       "4    google_113399247482189200727_000666D32296_1711... NaN\n",
       "..                                                 ...  ..\n",
       "136  google_102847823526503707395_000666D6B7FD_1802... NaN\n",
       "137  google_102847823526503707395_000666DD9894_1910... NaN\n",
       "138  google_102847823526503707395_000666DD9894_1910... NaN\n",
       "139  google_114729917292219509612_000666DD7DE4_1809... NaN\n",
       "140  google_114729917292219509612_000666DD7DE4_1809... NaN\n",
       "\n",
       "[141 rows x 2 columns]"
      ]
     },
     "execution_count": 16,
     "metadata": {},
     "output_type": "execute_result"
    }
   ],
   "source": [
    "session_ids = pd.read_csv('session_id_list.csv', header = None)\n",
    "session_ids"
   ]
  },
  {
   "cell_type": "markdown",
   "metadata": {},
   "source": [
    "### Loop through each session and grab motion/ocean CSVs\n",
    "Shove CSVs into subdirectories named after their session IDs"
   ]
  },
  {
   "cell_type": "code",
   "execution_count": 18,
   "metadata": {},
   "outputs": [],
   "source": [
    "# Largest loop, through each session\n",
    "for session in session_ids[0]:\n",
    "    search_tag = f'packrat_source_id:{session}*'\n",
    "    sessions = requests.get(f'{PLATFORM_API}/tags/search/{search_tag}', params=params).json()['tags']\n",
    "    \n",
    "#     print(session)\n",
    "    # For each session, find associated CSVs\n",
    "    csv_files = []\n",
    "    for k, c in sessions.items():\n",
    "        files = list(c.values())[0]['files']\n",
    "        for fname, fc in files.items():\n",
    "            if fname.endswith('csv'):\n",
    "                csv_files.append(\n",
    "                    fc['url']\n",
    "                )\n",
    "#     display(f'Found {len(csv_files)} CSV files for this session')\n",
    "\n",
    "    # url is of form https://files.stage.platforms.axds.co/smartfin/legacy/google_112421847946536791050_0006667E22B1_170621130002/motion.csv\n",
    "    for url in csv_files:\n",
    "        \n",
    "        url_split = url.split('/') \n",
    "        new_fname = url_split[-2]+'_'+url_split[-1] # session ID + ocean or motion CSV\n",
    "\n",
    "        # make a new subdirectory for files from this session\n",
    "        new_dir = os.path.join('data', url_split[-2])\n",
    "        if not os.path.exists(new_dir): os.mkdir(new_dir)\n",
    "\n",
    "        path = os.path.join('data', url_split[-2], new_fname)\n",
    "        urllib.request.urlretrieve(url, path)"
   ]
  },
  {
   "cell_type": "code",
   "execution_count": null,
   "metadata": {},
   "outputs": [],
   "source": []
  }
 ],
 "metadata": {
  "kernelspec": {
   "display_name": "Python 3",
   "language": "python",
   "name": "python3"
  },
  "language_info": {
   "codemirror_mode": {
    "name": "ipython",
    "version": 3
   },
   "file_extension": ".py",
   "mimetype": "text/x-python",
   "name": "python",
   "nbconvert_exporter": "python",
   "pygments_lexer": "ipython3",
   "version": "3.7.7"
  }
 },
 "nbformat": 4,
 "nbformat_minor": 4
}
