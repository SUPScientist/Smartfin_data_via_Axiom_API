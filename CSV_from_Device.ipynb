{
 "cells": [
  {
   "cell_type": "code",
   "execution_count": 20,
   "metadata": {},
   "outputs": [],
   "source": [
    "import json\n",
    "import requests\n",
    "import pandas as pd"
   ]
  },
  {
   "cell_type": "code",
   "execution_count": 21,
   "metadata": {},
   "outputs": [],
   "source": [
    "PLATFORM_API = 'https://stage.platforms.axds.co/'\n",
    "params = { 'verbosity': 2 }"
   ]
  },
  {
   "cell_type": "code",
   "execution_count": 22,
   "metadata": {},
   "outputs": [
    {
     "data": {
      "text/plain": [
       "'Found 40 platforms tagged with \"packrat_source_id:Sfin-330026001847363439353035*\"'"
      ]
     },
     "metadata": {},
     "output_type": "display_data"
    }
   ],
   "source": [
    "device = 'Sfin-330026001847363439353035'\n",
    "search_tag = f'packrat_source_id:{device}*'\n",
    "sessions = requests.get(f'{PLATFORM_API}/tags/search/{search_tag}', params=params).json()['tags']\n",
    "display(f'Found {len(sessions)} platforms tagged with \"{search_tag}\"')"
   ]
  },
  {
   "cell_type": "code",
   "execution_count": 23,
   "metadata": {},
   "outputs": [
    {
     "data": {
      "text/plain": [
       "'Found 40 CSV files for this session'"
      ]
     },
     "metadata": {},
     "output_type": "display_data"
    }
   ],
   "source": [
    "csv_files = []\n",
    "for k, c in sessions.items():\n",
    "    files = list(c.values())[0]['files']\n",
    "    for fname, fc in files.items():\n",
    "        if fname.endswith('csv'):\n",
    "            csv_files.append(\n",
    "                fc['url']\n",
    "            )\n",
    "display(f'Found {len(csv_files)} CSV files for this session')"
   ]
  },
  {
   "cell_type": "code",
   "execution_count": 24,
   "metadata": {},
   "outputs": [
    {
     "data": {
      "text/plain": [
       "'Found 15749 data rows'"
      ]
     },
     "metadata": {},
     "output_type": "display_data"
    }
   ],
   "source": [
    "dfs = []\n",
    "\n",
    "for url in csv_files:\n",
    "    df = pd.read_csv(url, index_col=None, header=0)\n",
    "    dfs.append(df)\n",
    "\n",
    "frame = pd.concat(dfs, axis=0, ignore_index=True)\n",
    "display(f'Found {len(frame)} data rows')"
   ]
  },
  {
   "cell_type": "code",
   "execution_count": 25,
   "metadata": {},
   "outputs": [
    {
     "data": {
      "text/plain": [
       "'Subset to 12977 data rows'"
      ]
     },
     "metadata": {},
     "output_type": "display_data"
    }
   ],
   "source": [
    "start = '2020-07-01'\n",
    "\n",
    "frame['time'] = pd.to_datetime(frame.time)\n",
    "frame = frame[frame.time > start]\n",
    "display(f'Subset to {len(frame)} data rows')"
   ]
  },
  {
   "cell_type": "code",
   "execution_count": 26,
   "metadata": {},
   "outputs": [],
   "source": [
    "frame.to_csv(f'{device}.csv', index=False)"
   ]
  },
  {
   "cell_type": "code",
   "execution_count": null,
   "metadata": {},
   "outputs": [],
   "source": []
  }
 ],
 "metadata": {
  "kernelspec": {
   "display_name": "Python 3",
   "language": "python",
   "name": "python3"
  },
  "language_info": {
   "codemirror_mode": {
    "name": "ipython",
    "version": 3
   },
   "file_extension": ".py",
   "mimetype": "text/x-python",
   "name": "python",
   "nbconvert_exporter": "python",
   "pygments_lexer": "ipython3",
   "version": "3.7.7"
  }
 },
 "nbformat": 4,
 "nbformat_minor": 4
}
